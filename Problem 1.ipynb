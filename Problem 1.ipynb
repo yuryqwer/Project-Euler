{
 "cells": [
  {
   "cell_type": "markdown",
   "metadata": {},
   "source": [
    "## Multiples of 3 and 5\n",
    "If we list all the natural numbers below 10 that are multiples of 3 or 5, we get 3, 5, 6 and 9. The sum of these multiples is 23.\n",
    "\n",
    "Find the sum of all the multiples of 3 or 5 below 1000.\n",
    "\n",
    "---\n",
    "## 3或5的倍数\n",
    "在小于10的自然数中，3或5的倍数有3、5、6和9，这些数之和是23。\n",
    "\n",
    "求小于1000的自然数中所有3或5的倍数之和。"
   ]
  },
  {
   "cell_type": "code",
   "execution_count": 1,
   "metadata": {},
   "outputs": [
    {
     "name": "stdout",
     "output_type": "stream",
     "text": [
      "233168\n"
     ]
    }
   ],
   "source": [
    "def sum_multiples_of_3_and_5(number: int) -> int:\n",
    "    \"\"\"\n",
    "    a readable version to calculate with O(n) time complexity\n",
    "    \"\"\"\n",
    "    sum_multiples_of_3 = sum(range(3, number, 3))\n",
    "    sum_multiples_of_5 = sum(range(5, number, 5))\n",
    "    sum_multiples_of_15 = sum(range(15, number, 15))\n",
    "    return sum_multiples_of_3 + sum_multiples_of_5 - sum_multiples_of_15\n",
    "\n",
    "print(sum_multiples_of_3_and_5(1000))"
   ]
  },
  {
   "cell_type": "code",
   "execution_count": 4,
   "metadata": {},
   "outputs": [
    {
     "name": "stdout",
     "output_type": "stream",
     "text": [
      "233168\n"
     ]
    }
   ],
   "source": [
    "def sum_multiples_of_3_and_5(number: int) -> int:\n",
    "    \"\"\"\n",
    "    a more effecient way to calculate with O(1) time complexity\n",
    "    using the formula of arithmetic progression\n",
    "    \"\"\"\n",
    "    sum_multiples_of_3 = 3 * (1 + (number - 1) // 3) * ((number - 1) // 3) // 2\n",
    "    sum_multiples_of_5 = 5 * (1 + (number - 1) // 5) * ((number - 1) // 5) // 2\n",
    "    sum_multiples_of_15 = 15 * (1 + (number - 1) // 15) * ((number - 1) // 15) // 2\n",
    "    return sum_multiples_of_3 + sum_multiples_of_5 - sum_multiples_of_15\n",
    "\n",
    "print(sum_multiples_of_3_and_5(1000))"
   ]
  }
 ],
 "metadata": {
  "interpreter": {
   "hash": "e700657700ca3726e7d919db0cb1bdb00b1449743532d1443fbe37ca2c1ec67d"
  },
  "kernelspec": {
   "display_name": "Python 3.7.4 64-bit",
   "language": "python",
   "name": "python3"
  },
  "language_info": {
   "codemirror_mode": {
    "name": "ipython",
    "version": 3
   },
   "file_extension": ".py",
   "mimetype": "text/x-python",
   "name": "python",
   "nbconvert_exporter": "python",
   "pygments_lexer": "ipython3",
   "version": "3.7.4"
  },
  "orig_nbformat": 4
 },
 "nbformat": 4,
 "nbformat_minor": 2
}
